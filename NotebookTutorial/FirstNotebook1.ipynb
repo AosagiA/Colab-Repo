{
  "nbformat": 4,
  "nbformat_minor": 0,
  "metadata": {
    "colab": {
      "provenance": [],
      "toc_visible": true,
      "authorship_tag": "ABX9TyNslEZVqmG7zF76q4i5lFj3",
      "include_colab_link": true
    },
    "kernelspec": {
      "name": "python3",
      "display_name": "Python 3"
    },
    "language_info": {
      "name": "python"
    }
  },
  "cells": [
    {
      "cell_type": "markdown",
      "metadata": {
        "id": "view-in-github",
        "colab_type": "text"
      },
      "source": [
        "<a href=\"https://colab.research.google.com/github/AosagiA/ColabHandbook/blob/main/NotebookTutorial/FirstNotebook1.ipynb\" target=\"_parent\"><img src=\"https://colab.research.google.com/assets/colab-badge.svg\" alt=\"Open In Colab\"/></a>"
      ]
    },
    {
      "cell_type": "markdown",
      "source": [
        "![あおきゅうプログラミング 500x100](https://raw.githubusercontent.com/ao9-work-team/Ao9-Templates/main/images/banner.png)\n",
        "\n",
        "[Top](https://github.com/ao9-prog-team/ColabHandbook/tree/main)\n",
        "[List](https://github.com/ao9-prog-team/ColabHandbook/blob/main/CourseList.md)\n",
        "\n",
        "# 初めてのColabノートブック\n",
        "\n",
        "> Author: AosagiA <br>\n",
        "> Date: 2023/11/11 <br>\n",
        "> Last Update: 2023/11/11\n",
        "<hr>\n",
        "\n",
        "## はじめに\n",
        "　初めまして、**あおきゅうプログラミング**です。\n",
        "\n",
        "　私たちは、プログラミング初心者からより高度な知識や技術を知りたい人まで、色々なレベルの人が楽しくプログラミングを学べる場所を作りたいと思っています。\n",
        "\n",
        "　これは **[ColabHandbook](https://github.com/ao9-prog-team/ColabHandbook/blob/main/CourseList.md)** の冒頭ページです。Google Colaboratoryのノートブックをまとめていますので、興味のある人は色々見てみてください。\n",
        "\n",
        "　Google Colaboratoryとは、Pythonを気軽に学び、実行できるクラウド環境です。私も勉強、趣味、そして仕事でもたくさん利用させてもらっています。\n",
        "ここでは、説明、メモ書き、実際のスクリプトに実行結果まで、ノートブックというファイルで保存しておくことができます。\n",
        "\n",
        "　Python公式サイト、大学・研究機関、AIやクラウドサービスのベンダーなど、様々な組織がチュートリアルをノートブックの形で配信してくれています。私たちもそれらに取り組みながら、気になった機能を深掘りしたり、応用したりして、その記録をノートブックにしてまとめていきます。\n",
        "\n",
        "　皆さんもこれらのノートブックを通して、Pythonの自由な世界を楽しみましょう。\n",
        "\n",
        "\n",
        "## 概要:\n",
        "　ここでは初めに、Google Colab Notebookの基本的な使い方についてやっていきます。同時にPythonのコードも少し動かしてみます。最初は本当に簡単なものだけですので、まずは気軽に取り組んでいきましょう。\n",
        "\n",
        "<hr>"
      ],
      "metadata": {
        "id": "vxk3dMWBfOyc"
      }
    },
    {
      "cell_type": "markdown",
      "source": [
        "## ノートブックをコピーしてみよう\n",
        "\n",
        "まず最初に、ノートブックの実行にはGoogleアカウントが必要になります。\n",
        "アカウントを持っていない方は、下のリンクを参考にしてアカウントを作成してください。\n",
        "* [Google公式ヘルプ｜Googleアカウントの作成](https://support.google.com/accounts/answer/27441?hl=ja)\n",
        "\n",
        "次に、ノートブックに取り組むには自分用にコピーする必要があります。\n",
        "\n",
        "上のメニューにある「ドライブにコピー」をクリックしてください。\n",
        "そうすると、GoogleドライブのMy Drive/Colab Notebooksに保存されます。\n",
        "\n",
        "他にもGithubアカウントを持っている方は「Githubにコピーを保存」を選ぶこともできます。色々試してみてください。ハンドブックでもそのうち扱います。"
      ],
      "metadata": {
        "id": "gNdu0SkiaPFc"
      }
    },
    {
      "cell_type": "markdown",
      "source": [
        "\n",
        "## セルを実行してみよう\n",
        "\n",
        "Google Colaboratory（以下、Colab）は、\n",
        "* セルというブロックにPythonのコードを入力し、\n",
        "* 左にある「▶」ボタンをクリックするか、「Shift + Enter」などで実行\n",
        "* 結果が表示される\n",
        "\n",
        "という流れでPythonを実行することができます。\n",
        "\n",
        "早速、下のセルを実行してみましょう。\n",
        "\n",
        "* ボタンで実行するには、カーソルをセルの上にもってきて左の▶を押す\n",
        "* キーで実行するには、上下キーかクリックでセルを選び、「Shift + Enter」を押す\n",
        "\n",
        "初めて実行したときは少し時間がかかりますが、簡単な足し算の結果が表示されるはずです。\n",
        "\n",
        "<!-- 上下キーでセルを選ぼうとすると、この説明文のセルに入ってしまうこともあります。\n",
        "この文章が見えているなら、ここはテキストセルの中です。\n",
        "その場合はカーソルが一番下にくるまで下キーを押すか、「Esc」キーを押してから下キーを押すと下のセルに入れます。 -->"
      ],
      "metadata": {
        "id": "rG5m6x-zH8Q6"
      }
    },
    {
      "cell_type": "code",
      "source": [
        "# 左の▶を押すか、Shift + Enterを入力\n",
        "1 + 2 + 3"
      ],
      "metadata": {
        "id": "2tXSTZKDVohE",
        "outputId": "ef32e717-2135-4552-a45e-ec45900914a8",
        "colab": {
          "base_uri": "https://localhost:8080/"
        }
      },
      "execution_count": 3,
      "outputs": [
        {
          "output_type": "execute_result",
          "data": {
            "text/plain": [
              "6"
            ]
          },
          "metadata": {},
          "execution_count": 3
        }
      ]
    },
    {
      "cell_type": "markdown",
      "source": [
        "おめでとうございます！\n",
        "\n",
        "計算結果が表示されていれば、初めてのPython実行成功です。\n",
        "海外のチュートリアルなんかであれば、「ここから君の輝かしいエンジニア経歴が始まるんだ！」とか書かれていそうです。\n",
        "\n",
        "今コードを実行したセルは「**コードセル**」、この文章が書いてあるセルは「**テキストセル**」といいます。\n",
        "\n",
        "コードセルにはPythonのスクリプトを書いていきます。\n",
        "テキストセルにはマークダウン形式で様々な文章を入力でき、ちょっとしたメモやコメントにも使えます。\n",
        "\n",
        "ちょっとテキストセルを書いてみましょう。\n",
        "このセルとセルの間にマウスカーソルを移動すると、「+コード」「+テキスト」というボタンが出てきます。これでセルを追加できます。\n",
        "「この下にテキストセルを追加」の下の「+テキスト」の方のボタンを押して、何か適当な文章を書いてから「Shift + Enter」を押してみましょう。\n",
        "\n",
        "<pre>\n",
        "この下にテキストセルを追加\n",
        "</pre>"
      ],
      "metadata": {
        "id": "mJoAQQtbVrBD"
      }
    },
    {
      "cell_type": "markdown",
      "source": [
        "<pre>\n",
        "この上にテキストセルを追加\n",
        "</pre>\n",
        "\n",
        "テキストセルは書けましたか？\n",
        "\n",
        "同じようにコードセルも、ノートブックの自由な場所に追加して実行していくことができます。簡単ですね。"
      ],
      "metadata": {
        "id": "FdkWws8XZpIR"
      }
    },
    {
      "cell_type": "markdown",
      "source": [
        "### ショートカットキーを使ってみよう\n",
        "\n",
        "Colabにはいくつかのショートカットキーが設定されています。よく使うものを挙げてみましょう。先ほどのセルの実行や、セルの追加、コードセルとテキストセルの切り替えなどもあります。\n",
        "\n",
        "「Ctrl+M A」というキーは、Ctrlキーを押しながらMキーを押し、そのあとAキーを押すという意味です。Aを押すときにはCtrlを離していてもいいです。\n",
        "\n",
        "| キー | 意味 |\n",
        ":----|:----|\n",
        "| Ctrl+Enter | その場でセルを実行 |\n",
        "| Shift+Enter | セルを実行して下に移動 |\n",
        "| Alt+Enter | セルを実行して下に新しいコードセルを追加 |\n",
        "| Esc | セルから出る |\n",
        "| Ctrl+M A | 上にコードセルを追加 |\n",
        "| Ctrl+M B | 下にコードセルを追加 |\n",
        "| Ctrl+M M | コードセルをテキストセルに変換 |\n",
        "| Ctrl+M Y | テキストセルをコードセルに変換 |\n",
        "| Ctrl+M D | セルを削除 |\n",
        "| Ctrl+M .(ピリオド) | ランタイムを再起動 |\n",
        "| Ctrl+F9 | すべてのセルを実行 |\n",
        "| Ctrl+F8 | 選択中のセルより上を実行 |\n",
        "| Ctrl+F10 | 選択中のセル以下を実行 |\n",
        "| Ctrl+O | ノートブックを開く |\n",
        "| Ctrl+M H | キーボードショートカットを表示 |\n",
        "| Ctrl+Shift+P | コマンドパレットを表示 |\n",
        "| Ctrl+M P | 上のセルに移動 |\n",
        "| Ctrl+M N | 下のセルに移動 |\n",
        "| Ctrl+M K | 現在のセルを上に移動 |\n",
        "| Ctrl+M J | 現在のセルを下に移動 |\n",
        "\n",
        "たくさんあるように見えますが、ほとんどの操作はマウスでもできるので、便利だと思うものだけ覚えていれば大丈夫です。\n",
        "\n",
        "「Ctrl+M H」で開けるキーボードショートカットでは、さらに多くのキーが登録されています。また、自分でカスタマイズしたり他のキーバインドセットを使うこともできます。慣れてきたら色々と試してみましょう。\n",
        "\n",
        "「**Ctrl+F10**」を押してみましょう。ここから下のセルがすべて実行されます。\n",
        "\n",
        "これはノートブックのいいところでも悪いところでもあるのですが、書かれているコードが分かっていなくても、とりあえず実行してしまえば結果を見ることができます。なんて簡単なんでしょう。\n",
        "\n",
        "実行しているのはPythonでできる代表的な内容です。さらっと眺めながら一番下まで移動しましょう。"
      ],
      "metadata": {
        "id": "pniOwSZ-hIdn"
      }
    },
    {
      "cell_type": "code",
      "source": [
        "# numpyという数値計算ライブラリと\n",
        "# matplotlibというグラフ描画ライブラリを使って\n",
        "# 機械学習分野で有名なシグモイド関数のグラフと\n",
        "# 双曲線関数を変形した(1+tanh(x))/2のグラフを描いていきます\n",
        "import numpy as np\n",
        "import matplotlib.pyplot as plt"
      ],
      "metadata": {
        "id": "XHtoB5aUczSx"
      },
      "execution_count": 4,
      "outputs": []
    },
    {
      "cell_type": "markdown",
      "source": [
        "* シグモイド関数\n",
        "\n",
        "$$\n",
        "\\sigma(x) =\n",
        "\\begin{cases}\n",
        "\\frac{1}{1 + e^{-x}} &\\quad (x \\ge 0)\\\\\n",
        "\\frac{e^x}{e^x + 1} &\\quad (x < 0)\n",
        "\\end{cases}\n",
        "$$\n",
        "\n",
        "※ 場合分けはオーバーフロー対策"
      ],
      "metadata": {
        "id": "HOi64oDpjBJh"
      }
    },
    {
      "cell_type": "code",
      "source": [
        "def sigmoid(x):\n",
        "  if x >= 0:\n",
        "    return 1/(1 + np.exp(-x))\n",
        "  else:\n",
        "    ex = np.exp(x)\n",
        "    return ex/(ex + 1)\n",
        "vsigmoid = np.vectorize(sigmoid)"
      ],
      "metadata": {
        "id": "3d_ztUrujAoq"
      },
      "execution_count": 7,
      "outputs": []
    },
    {
      "cell_type": "markdown",
      "source": [
        "* tanh関数\n",
        "\n",
        "$$\n",
        "\\begin{split}\n",
        "y &= \\frac{1 + \\tanh(x)}{2}\\\\\n",
        "&= \\frac{1}{2} \\left\\{1 + \\frac{e^x - e^{-x}}{e^x + e^{-x}}\\right\\}\\\\\n",
        "&= \\frac{1}{2} \\frac{2e^{x}}{e^x + e^{-x} }\\\\\n",
        "&= \\frac{1}{1 + e^{-2x}}\n",
        "= \\sigma(2x)\n",
        "\\end{split}\n",
        "$$"
      ],
      "metadata": {
        "id": "_IXm0eQIogZa"
      }
    },
    {
      "cell_type": "markdown",
      "source": [
        "* グラフの描画"
      ],
      "metadata": {
        "id": "tm2_rgyumrTa"
      }
    },
    {
      "cell_type": "code",
      "source": [
        "x = np.linspace(-5, 5, 50)\n",
        "plt.plot(x, vsigmoid(x), c=\"green\")\n",
        "plt.plot(x, (1+np.tanh(x))/2, c=\"orange\")\n",
        "plt.show()"
      ],
      "metadata": {
        "id": "Nck4IcrBmtk6"
      },
      "execution_count": null,
      "outputs": []
    },
    {
      "cell_type": "markdown",
      "source": [
        "いかがですか？\n",
        "\n",
        "何をやっているコードか分からないときは（悪意のあるコードでなければ）とりあえず実行してしまって、あとから何をやっているか調べてみればいいのです。\n",
        "\n",
        "それでは、最後にその調べ方を紹介しましょう。\n",
        "\n",
        "「Ctrl + Alt + N」を押してみましょう。\n",
        "右側に**スクラッチセル**というものが出てきます。\n",
        "これはノートブックには載せずにちょっとしたコードを実行するのに使えます。\n",
        "\n",
        "今回は、上の例で使っている変数$x$に何が入っているか見てみましょう。\n",
        "下のように「x」だけ入力してセルを実行します。\n",
        "<pre>\n",
        "x\n",
        "</pre>\n",
        "\n",
        "何やらarrayという文字とたくさんの数字が出てきましたね。xには-5から5までの数値が均等に50個入っています。\n",
        "\n",
        "次は、今のxを消して次のコードを入力し、実行してみてください。\n",
        "\n",
        "マウスでドラッグするとコピー＆ペーストすることもできますよ。\n",
        "\n",
        "<pre>\n",
        "plt.plot(x, vsigmoid(x))\n",
        "</pre>\n",
        "\n",
        "青い線のグラフが表示されたでしょうか。\n",
        "plt.plotというのは、グラフを表示するためのメソッド(関数)です。\n",
        "\n",
        "このように、スクラッチセルでは変数の中身を調べたり、関数の動作をチェックしたりすることができるのです。"
      ],
      "metadata": {
        "id": "e8d1pxOqm4yk"
      }
    },
    {
      "cell_type": "markdown",
      "source": [
        "## 次回は\n",
        "次のノートブックでは、Python公式のチュートリアルを見ながらPythonプログラミングの基本を紹介していきます。\n",
        "プログラミング自体初めて、という人向けにできる限り分かりやすく説明することを目指しています。\n",
        "\n",
        "Colabの使い方をもっと学びたい人は、参考サイトで紹介する公式のノートブックなども見てみてください。"
      ],
      "metadata": {
        "id": "fcPtSEAawaAH"
      }
    },
    {
      "cell_type": "markdown",
      "source": [
        "## 参考サイト\n",
        "- [Python Japan｜ゼロからのPython入門講座](https://www.python.jp/train/experience/colab.html)\n",
        "- [Google | Colaboratoryへようこそ](https://colab.research.google.com/?hl=ja)\n",
        "\n",
        "[次へ](#)"
      ],
      "metadata": {
        "id": "kFbYsifxKMW6"
      }
    }
  ]
}