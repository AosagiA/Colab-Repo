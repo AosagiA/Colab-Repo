{
  "nbformat": 4,
  "nbformat_minor": 0,
  "metadata": {
    "colab": {
      "provenance": [],
      "authorship_tag": "ABX9TyOBCf+/321U6dw40HuXHUie",
      "include_colab_link": true
    },
    "kernelspec": {
      "name": "python3",
      "display_name": "Python 3"
    },
    "language_info": {
      "name": "python"
    }
  },
  "cells": [
    {
      "cell_type": "markdown",
      "metadata": {
        "id": "view-in-github",
        "colab_type": "text"
      },
      "source": [
        "<a href=\"https://colab.research.google.com/github/AosagiA/ColabHandbook/blob/main/FirstNotebook1.ipynb\" target=\"_parent\"><img src=\"https://colab.research.google.com/assets/colab-badge.svg\" alt=\"Open In Colab\"/></a>"
      ]
    },
    {
      "cell_type": "markdown",
      "source": [
        "![あおきゅうプログラミング 500x100](https://raw.githubusercontent.com/ao9-work-team/Ao9-Templates/main/images/banner.png)\n",
        "\n",
        "[Top](https://github.com/ao9-prog-team/ColabHandbook/tree/main)\n",
        "[List](https://github.com/ao9-prog-team/ColabHandbook/blob/main/CourseList.md)\n",
        "\n",
        "# タイトル: タイトルをここに入力\n",
        "\n",
        "> Author:\n",
        "Author名をここに入力\n",
        "<br>\n",
        "> Date:\n",
        "作成日をここに入力\n",
        "<br>\n",
        "> Last Update:\n",
        "最終更新日をここに入力\n",
        "\n",
        "## 概要:\n",
        "ここにプロジェクトやコードの概要を簡潔に説明します。\n",
        "\n",
        "### 使用する外部モジュール:\n",
        "- ライブラリ1: ライブラリ1の概要を説明\n",
        "- ライブラリ2: ライブラリ2の概要を説明\n",
        "- ...\n"
      ],
      "metadata": {
        "id": "vxk3dMWBfOyc"
      }
    },
    {
      "cell_type": "markdown",
      "source": [
        "\n",
        "## 本文:\n",
        "\n",
        "```python\n",
        "# ここにPythonのコードを記述します\n",
        "```\n"
      ],
      "metadata": {
        "id": "rG5m6x-zH8Q6"
      }
    },
    {
      "cell_type": "markdown",
      "source": [
        "\n",
        "## 参考サイト:\n",
        "- [参考サイト1のタイトル](URL1)\n",
        "- [参考サイト2のタイトル](URL2)\n",
        "- ...\n",
        "\n",
        "[前へ](#)\n",
        "[次へ](#)"
      ],
      "metadata": {
        "id": "kFbYsifxKMW6"
      }
    }
  ]
}